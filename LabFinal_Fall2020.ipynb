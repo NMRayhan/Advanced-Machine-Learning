{
  "nbformat": 4,
  "nbformat_minor": 0,
  "metadata": {
    "colab": {
      "name": "Untitled2.ipynb",
      "provenance": [],
      "authorship_tag": "ABX9TyMgUnz/4ztlWfzWabPqQHFe",
      "include_colab_link": true
    },
    "kernelspec": {
      "name": "python3",
      "display_name": "Python 3"
    }
  },
  "cells": [
    {
      "cell_type": "markdown",
      "metadata": {
        "id": "view-in-github",
        "colab_type": "text"
      },
      "source": [
        "<a href=\"https://colab.research.google.com/github/NMRayhan/Advanced-Machine-Learning/blob/master/LabFinal_Fall2020.ipynb\" target=\"_parent\"><img src=\"https://colab.research.google.com/assets/colab-badge.svg\" alt=\"Open In Colab\"/></a>"
      ]
    },
    {
      "cell_type": "markdown",
      "metadata": {
        "id": "Vv_IEh8gH1l0"
      },
      "source": [
        "**Question No: 1**"
      ]
    },
    {
      "cell_type": "code",
      "metadata": {
        "colab": {
          "base_uri": "https://localhost:8080/"
        },
        "id": "re1r4mGKHEj-",
        "outputId": "c3bd0828-6f54-4363-989a-a218d16bd222"
      },
      "source": [
        "print(\"We love to code in python.\")\r\n",
        "print(\"We are the student from SWE-Fall 2020.\")"
      ],
      "execution_count": 1,
      "outputs": [
        {
          "output_type": "stream",
          "text": [
            "We love to code in python.\n",
            "We are the student from SWE-Fall 2020.\n"
          ],
          "name": "stdout"
        }
      ]
    },
    {
      "cell_type": "code",
      "metadata": {
        "id": "b-sKVMAjHmkD"
      },
      "source": [
        "print(\"We love to code in python.\")\r\n",
        "print(\"We are the student from SWE-Fall 2020.\")"
      ],
      "execution_count": null,
      "outputs": []
    },
    {
      "cell_type": "markdown",
      "metadata": {
        "id": "hnu-hsWTIAVc"
      },
      "source": [
        "**Question No: 2**"
      ]
    },
    {
      "cell_type": "code",
      "metadata": {
        "colab": {
          "base_uri": "https://localhost:8080/"
        },
        "id": "bT20syUNH9GB",
        "outputId": "6adf0067-1869-40d1-e8a0-39e61d466d21"
      },
      "source": [
        "total_attendace = int(input(\"Enter Total Attendace \"))\r\n",
        "total_class = int(input(\"Enter Total Class \"))\r\n",
        "Avrg = (total_attendace/total_class)*100\r\n",
        "percent = str(Avrg)\r\n",
        "print(percent +\"%\")"
      ],
      "execution_count": 13,
      "outputs": [
        {
          "output_type": "stream",
          "text": [
            "Enter Total Attendace 7\n",
            "Enter Total Class 10\n",
            "70.0%\n"
          ],
          "name": "stdout"
        }
      ]
    },
    {
      "cell_type": "markdown",
      "metadata": {
        "id": "ZYp4McUvRtQ9"
      },
      "source": [
        "**Question No: 3**\r\n",
        "\r\n"
      ]
    },
    {
      "cell_type": "code",
      "metadata": {
        "colab": {
          "base_uri": "https://localhost:8080/"
        },
        "id": "rp2CMn4hQcLT",
        "outputId": "86e2366a-04b2-40b0-bec3-0a583f15da9d"
      },
      "source": [
        "n=int(input())\r\n",
        "k=[]\r\n",
        "for i in range(n):\r\n",
        "  k.append(input())\r\n",
        "chicken= k.count(\"1\")\r\n",
        "egg= k.count(\"2\")\r\n",
        "if chicken>egg:\r\n",
        "  print(\"Melay Jai Re! Melay Jai Re..\")\r\n",
        "if chicken<egg:\r\n",
        "  print(\"Kare Dekhabo MonerDukkho Re..\")\r\n",
        "if chicken==egg:\r\n",
        "  print(\"Eso He Boishakh, Eso Eso..\")"
      ],
      "execution_count": 19,
      "outputs": [
        {
          "output_type": "stream",
          "text": [
            "4\n",
            "2\n",
            "1\n",
            "2\n",
            "1\n",
            "Eso He Boishakh, Eso Eso..\n"
          ],
          "name": "stdout"
        }
      ]
    }
  ]
}